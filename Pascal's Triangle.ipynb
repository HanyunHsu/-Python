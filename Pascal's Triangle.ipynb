{
 "cells": [
  {
   "cell_type": "markdown",
   "id": "1cd383bc",
   "metadata": {},
   "source": [
    "## Homework 2 - Programming Problem (Data Structures, Fall 2023)\n",
    "\n",
    "### Name:許瀚允\n",
    "### Student ID Number:111820021"
   ]
  },
  {
   "cell_type": "markdown",
   "id": "96323786-876c-4770-a86e-fb135985c4ba",
   "metadata": {},
   "source": [
    "### Problem 6 \n",
    " The **binomial coefficients** may be defined by the following recurrence relation, which is the idea of ***Pascal's triangle***. The top of Pascal's triangle is shown as below.\n",
    "\\begin{eqnarray}\n",
    "  C(n,0)=1 ~~~~~~ C(n,n)=1     &  \\mbox{for } n\\geq 0 \\\\\n",
    "  C(n,k)=C(n-1,k)+C(n-1,k-1)~~ &  \\mbox{for } n>k>0 \\\\\n",
    "\\end{eqnarray}\n",
    "\n",
    "<img src=Pascal_triangle.png  width=\"400\" height=\"200\">\n",
    " \n",
    "1. Draw the *recursion tree* for calculating $C(6,4)$.\n",
    "2. Write a function `PA_r()` using a *recursive* way to generate Pascal's triangle in the lower left half of the array.\n",
    "3. As (2), write a *nonrecursive* function `PA_n()` to generate Pascal's triangle in the lower left half of the array.\n",
    "4. Again, write a *nonrecursive* program `PA_d()` that uses neither an array to calculate each $C(n,k)$ directly.\n",
    "5. Please do some experiments by yourself to observe the running time and perform a comparison on these three versions by the execution time. Thus, you need to write a Python program to do the comparison, which will call `PA_r()`, `PA_n()`, and `PA_d()`, respectively. Please see the execution example below. To measure the execution time. Please use Python's `timeit` module to do the measurement.\n",
    "6. Determine the approximate space and time requirements for each of the algorithms devised in parts (2), (3), and (4)."
   ]
  },
  {
   "cell_type": "markdown",
   "id": "2fb0b104-45c7-4e2c-87e1-ae8174e67dc9",
   "metadata": {},
   "source": [
    "1. Draw the *recursion tree* for calculating $C(6,4)$."
   ]
  },
  {
   "cell_type": "markdown",
   "id": "88a39cb4-7ac9-4907-9333-fdd74479c97b",
   "metadata": {},
   "source": [
    "\n",
    "                                    (0, 0)\n",
    "                                   \n",
    "                                 (1, 0) (1, 1)\n",
    "                               \n",
    "                             (2, 0)  (2, 1)  (2, 2)\n",
    "                       \n",
    "                       (3, 0)   (3, 1)   (3, 2)   (3, 3)\n",
    "                      \n",
    "                   (4, 0)   (4, 1)   (4, 2)   (4, 3)   (4, 4)\n",
    "       \n",
    "                (5, 0)   (5, 1)   (5, 2)   (5, 3)   (5, 4)   (5, 5)\n",
    "             \n",
    "            (6, 0)  (6, 1)  (6, 2)   (6, 3)   (6, 4)   (6, 5)   (6, 6)\n",
    "\n",
    "\n",
    "\n",
    "$\\\\(6,4)=(5,3)+(5,4)=(4,2)+2(4,3)+(4,4)=(3,1)+3(3,2)+2(3,3)+(4,4)=(2,0)+4(2,1)+3(2,2)+2(3,3)+(4,4)=(2,0)+4(1,0)+4(1,1)+3(2,2)+2(3,3)+(4,4)=15x1=15$\n"
   ]
  },
  {
   "cell_type": "markdown",
   "id": "71418872-b7dc-40bc-99c4-394fcf60e338",
   "metadata": {},
   "source": [
    "2. Write a function `PA_r()` using a *recursive* way to generate Pascal's triangle in the lower left half of the array."
   ]
  },
  {
   "cell_type": "code",
   "execution_count": 7,
   "id": "bec3be7e-34da-4dcb-973a-3e9b582e42da",
   "metadata": {},
   "outputs": [
    {
     "name": "stdout",
     "output_type": "stream",
     "text": [
      "[1]\n",
      "[1, 1]\n",
      "[1, 2, 1]\n",
      "[1, 3, 3, 1]\n",
      "[1, 4, 6, 4, 1]\n"
     ]
    }
   ],
   "source": [
    "def PA_r(n):\n",
    "    if n == 1:\n",
    "        return [[1]]\n",
    "    else:\n",
    "        result = PA_r(n - 1)\n",
    "        row = [1]\n",
    "        for i in range(1, n - 1):\n",
    "            row.append(result[n - 2][i] + result[n - 2][i - 1])\n",
    "        row.append(1)\n",
    "        result.append(row)\n",
    "        return result\n",
    "\n",
    "# Test the function with n = 5\n",
    "triangle = PA_r(5)\n",
    "for row in triangle:\n",
    "    print(row)\n"
   ]
  },
  {
   "cell_type": "markdown",
   "id": "bc50109d-f74e-4bf6-9253-ecdb180b8367",
   "metadata": {},
   "source": [
    "3. As (2), write a *nonrecursive* function `PA_n()` to generate Pascal's triangle in the lower left half of the array."
   ]
  },
  {
   "cell_type": "code",
   "execution_count": 2,
   "id": "5f183cca-ec54-42a2-9b71-29229f62bbb6",
   "metadata": {},
   "outputs": [
    {
     "name": "stdout",
     "output_type": "stream",
     "text": [
      "[[1], [1, 1], [1, 2, 1], [1, 3, 3, 1], [1, 4, 6, 4, 1], [1, 5, 10, 10, 5, 1], [1, 6, 15, 20, 15, 6, 1], [1, 7, 21, 35, 35, 21, 7, 1], [1, 8, 28, 56, 70, 56, 28, 8, 1], [1, 9, 36, 84, 126, 126, 84, 36, 9, 1]]\n"
     ]
    }
   ],
   "source": [
    "def PA_n(n):\n",
    "    triangle = [[1]]\n",
    "    for i in range(1, n):\n",
    "        row = [1] * (i+1)\n",
    "        for k in range(1, i):\n",
    "            row[k] = triangle[i-1][k-1] + triangle[i-1][k]\n",
    "        triangle.append(row)\n",
    "    return triangle\n",
    "\n",
    "triangle = PA_n(10)\n",
    "for row in triangle:\n",
    "    print(row, end=\" \")\n"
   ]
  },
  {
   "cell_type": "markdown",
   "id": "7bb918d4-1375-48da-a518-471b8608e8d8",
   "metadata": {},
   "source": [
    "4. Again, write a *nonrecursive* program `PA_d()` that uses neither an array to calculate each $C(n,k)$ directly."
   ]
  },
  {
   "cell_type": "code",
   "execution_count": 21,
   "id": "205e0ae5-7dce-4d4c-a3c9-f314b1a86a1e",
   "metadata": {},
   "outputs": [
    {
     "name": "stdout",
     "output_type": "stream",
     "text": [
      "[[[1]], [[1, 1]], [[1, 2, 1]], [[1, 3, 3, 1]], [[1, 4, 6, 4, 1]], [[1, 5, 10, 10, 5, 1]], [[1, 6, 15, 20, 15, 6, 1]], [[1, 7, 21, 35, 35, 21, 7, 1]], [[1, 8, 28, 56, 70, 56, 28, 8, 1]], [[1, 9, 36, 84, 126, 126, 84, 36, 9, 1]]]\n"
     ]
    }
   ],
   "source": [
    "import math\n",
    "\n",
    "def PA_d(n):\n",
    "    arr = [[[1 for k in range(i + 1)] for j in range(1)] for i in range(n)]\n",
    "\n",
    "    for i in range(2, n):\n",
    "        for j in range(1, i):\n",
    "            arr[i][0][j] = math.comb(i, j)\n",
    "    print(arr)\n",
    "    \n",
    "PA_d(10)"
   ]
  },
  {
   "cell_type": "markdown",
   "id": "98283dc8-9d39-4b19-85a1-c42dd1ea86f9",
   "metadata": {},
   "source": [
    "5. Please do some experiments by yourself to observe the running time and perform a comparison on these three versions by the execution time. Thus, you need to write a Python program to do the comparison, which will call `PA_r()`, `PA_n()`, and `PA_d()`, respectively. Please see the execution example below. To measure the execution time. Please use Python's `timeit` module to do the measurement."
   ]
  },
  {
   "cell_type": "code",
   "execution_count": 27,
   "id": "f40f2fe8-d6d7-4edf-9ae7-39eb2259abad",
   "metadata": {},
   "outputs": [
    {
     "name": "stdout",
     "output_type": "stream",
     "text": [
      "PA_r execution time: 0.016851100022904575 seconds\n",
      "PA_n execution time: 0.015124899917282164 seconds\n",
      "PA_d execution time: 0.023808800033293664 seconds\n"
     ]
    }
   ],
   "source": [
    "import timeit\n",
    "import math\n",
    "\n",
    "# PA_r 遞迴\n",
    "def PA_r(n):\n",
    "    if n == 1:\n",
    "        return [[1]]\n",
    "    else:\n",
    "        result = PA_r(n - 1)\n",
    "        row = [1]\n",
    "        for i in range(1, n - 1):\n",
    "            row.append(result[n - 2][i] + result[n - 2][i - 1])\n",
    "        row.append(1)\n",
    "        result.append(row)\n",
    "        return result\n",
    "\n",
    "\n",
    "\n",
    "\n",
    "\n",
    "# PA_n 非遞迴\n",
    "def PA_n(n):\n",
    "    triangle = [[1]]\n",
    "    for i in range(1, n):\n",
    "        row = [1] * (i+1)\n",
    "        for k in range(1, i):\n",
    "            row[k] = triangle[i-1][k-1] + triangle[i-1][k]\n",
    "        triangle.append(row)\n",
    "    return triangle\n",
    "\n",
    "\n",
    "\n",
    "# PA_d 直接算下去\n",
    "def PA_d(n):\n",
    "    arr = [[[1 for k in range(i + 1)] for j in range(1)] for i in range(n)]\n",
    "\n",
    "    for i in range(2, n):\n",
    "        for j in range(1, i):\n",
    "            arr[i][0][j] = math.comb(i, j)\n",
    "    \n",
    "    \n",
    "\n",
    "\n",
    "\n",
    "n = int(input(\"Enter the value of n: \"))\n",
    "number = int(input(\"Enter the value of number: \"))\n",
    "\n",
    "\n",
    "t1 = timeit.timeit('PA_r(n)', globals=globals(), number=number)\n",
    "t2 = timeit.timeit('PA_n(n)', globals=globals(), number=number)\n",
    "t3 = timeit.timeit('PA_d(n)', globals=globals(), number=number)\n",
    "\n",
    "\n",
    "print(f\"PA_r execution time: {t1} seconds\")\n",
    "print(f\"PA_n execution time: {t2} seconds\")\n",
    "print(f\"PA_d execution time: {t3} seconds\")\n"
   ]
  },
  {
   "cell_type": "markdown",
   "id": "c8c1bdd2-6be9-45f5-82b0-5667caa10f7b",
   "metadata": {},
   "source": [
    "6. Determine the approximate space and time requirements for each of the algorithms devised in parts (2), (3), and (4)."
   ]
  },
  {
   "cell_type": "markdown",
   "id": "0faf41de-0f71-4d25-916e-9e5215567c9a",
   "metadata": {},
   "source": [
    "PA_r: space = O(n), time = O(n^2)\n",
    "PA_n: space = O(n^2), time = O(n^2)\n",
    "PA_d: space = O(n^2), time = O(n^2)"
   ]
  }
 ],
 "metadata": {
  "kernelspec": {
   "display_name": "Python 3 (ipykernel)",
   "language": "python",
   "name": "python3"
  },
  "language_info": {
   "codemirror_mode": {
    "name": "ipython",
    "version": 3
   },
   "file_extension": ".py",
   "mimetype": "text/x-python",
   "name": "python",
   "nbconvert_exporter": "python",
   "pygments_lexer": "ipython3",
   "version": "3.11.3"
  }
 },
 "nbformat": 4,
 "nbformat_minor": 5
}
