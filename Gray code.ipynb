{
 "cells": [
  {
   "cell_type": "markdown",
   "metadata": {},
   "source": [
    "## Homework 2 - Programming Problem (Data Structures, Fall 2023)\n",
    "\n",
    "### Due: Nov 7, 2023\n",
    "\n",
    "### SID:111820021\n",
    "### Name: 許瀚允 "
   ]
  },
  {
   "cell_type": "markdown",
   "metadata": {},
   "source": [
    "#### Problem 6. (Programming Exercise)\n",
    "A ***Gray code*** is an encoding of numbers so that two contiguous numbers have a single digit differing by 1. The term Gray code is often used to refer to a \"reflected\" code, or more specifically still, the binary reflected Gray code. For example, one-bit Gray code is $G_1=[0, 1]$ and two-bit Gray code is $G_2=[00, 01, 11, 10]$. Three-bit Gray code is as follows:\n",
    "\n",
    "| Dec | Gray |\n",
    "|-----|------|\n",
    "| 0   | 000  |\n",
    "| 1   | 001  |\n",
    "| 2   | 011  |\n",
    "| 3   | 010  |\n",
    "| 4   | 110  |\n",
    "| 5   | 111  |\n",
    "| 6   | 101  |\n",
    "| 7   | 100  |\n",
    "\n",
    "This exercise asks you to list the $n$-bit Gray code using a ***stack***. Your Python program should read a value $n$ (the number of bits for the Gray code) and use a stack to help you to generate the $n$-bit Gray codes as well as list them in order. \n",
    "\n",
    "Please note that your program **must use a *stack*** as an auxiliary tool. When you submit your homework, you need to indicate where the stack is in your program and how it helps."
   ]
  },
  {
   "cell_type": "code",
   "execution_count": 1,
   "metadata": {},
   "outputs": [],
   "source": [
    "class Stack:\n"
   ]
  },
  {
   "cell_type": "code",
   "execution_count": 3,
   "metadata": {},
   "outputs": [
    {
     "name": "stdout",
     "output_type": "stream",
     "text": [
      "['0000', '0001', '0011', '0010', '0110', '0111', '0101', '0100', '1100', '1101', '1111', '1110', '1010', '1011', '1001', '1000']\n"
     ]
    }
   ],
   "source": [
    "def Gray_Code_Generator(n):\n",
    "\n",
    "    stack = ['0', '1'] #建立一個stack, 裡面放0,1\n",
    "\n",
    "    for i in range(n-1):\n",
    "        new_stack = []\n",
    "        \n",
    "        for code in stack:  #取出原本stack的元素\n",
    "            new_stack.append('0' + code)  #在前面加上0\n",
    "        \n",
    "        for code in reversed(stack):  #反向取出原本stack中的元素\n",
    "            new_stack.append('1' + code)  #在前面加上1\n",
    "        stack = new_stack\n",
    "        \n",
    "    return stack  #更新stack\n",
    "\n",
    "n = int(input(\"Please enter the number of bits for the Gray code: \"))\n",
    "print(Gray_Code_Generator(n))\n",
    "#Gray_Code_Generator(n)"
   ]
  },
  {
   "cell_type": "code",
   "execution_count": null,
   "metadata": {},
   "outputs": [],
   "source": []
  }
 ],
 "metadata": {
  "kernelspec": {
   "display_name": "Python 3 (ipykernel)",
   "language": "python",
   "name": "python3"
  },
  "language_info": {
   "codemirror_mode": {
    "name": "ipython",
    "version": 3
   },
   "file_extension": ".py",
   "mimetype": "text/x-python",
   "name": "python",
   "nbconvert_exporter": "python",
   "pygments_lexer": "ipython3",
   "version": "3.11.6"
  }
 },
 "nbformat": 4,
 "nbformat_minor": 2
}
