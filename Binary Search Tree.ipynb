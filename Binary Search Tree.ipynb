{
 "cells": [
  {
   "cell_type": "markdown",
   "metadata": {},
   "source": [
    "## Homework 4 (Data Structures, Fall 2023)\n",
    "### Due: December 5, 2023\n",
    "\n",
    "### Name:許瀚允\n",
    "### Student ID Number:111820021\n",
    "\n",
    "Note: **Late work** is not acceptable. Remember, the ***deadline*** is the midnight of **December 5, 2023**.\n",
    "\n",
    "Honest Policy: We encourage students to discuss their work with the peer. However, each student should write the program and the problem solutions on her/his own. Those who copy others' work will get 0 on the homework grade.\n"
   ]
  },
  {
   "cell_type": "markdown",
   "metadata": {},
   "source": [
    "#### Problem 5 -- Programming (Binary Search Trees)\n",
    "In this problem, you need to implement an ***array-based binary search tree*** $T$ with the following associated operations(methods) using Python. We assume that each node is represented by a key value which is an integer. The operations include:\n",
    "1. `insert(x)`: insert a node with key $x$ into $T$.\n",
    "2. `delete(x)`: delete a node with key $x$ from $T$.\n",
    "3. `searchKey(x)`: perform the search process from the root; if the search fails, print `NOT found`; otherwise, print `x is found`.\n",
    "4. `printProperty()`: print out the properties of tree $T$, including the height and size of $T$.\n",
    "5. `preorderTraversal()`: list all the nodes using a preorder traversal.\n",
    "6. `postorderTraversal()`: list all the nodes using a postorder traversal.\n",
    "7. `inorderTraversal()`: list all the nodes using a inorder traversal.\n",
    "The binary search tree will be built or defined as a class, `BinarySearchTree`, and the operations mentioned above are defined as the methods. Of course, you can have other auxiliary methods. Initially, the binary search tree is empty. Your program allows the user to search, insert, and delete a node with a key. Please run `preorderTraversal()`, `postorderTraversal()`, and `inorderTraversal()` for the same binary search tree to see what you can observe.\n",
    "\n",
    "[Python math Module](https://docs.python.org/3/library/math.html)"
   ]
  },
  {
   "cell_type": "code",
   "execution_count": 6,
   "metadata": {},
   "outputs": [
    {
     "ename": "IndentationError",
     "evalue": "expected an indented block after function definition on line 12 (1302175080.py, line 16)",
     "output_type": "error",
     "traceback": [
      "\u001b[1;36m  Cell \u001b[1;32mIn[6], line 16\u001b[1;36m\u001b[0m\n\u001b[1;33m    def insert(self, key):\u001b[0m\n\u001b[1;37m    ^\u001b[0m\n\u001b[1;31mIndentationError\u001b[0m\u001b[1;31m:\u001b[0m expected an indented block after function definition on line 12\n"
     ]
    }
   ],
   "source": [
    "#\n",
    "# This block is for your to write your codes for problem 6.\n",
    "# The requested methods are listed below and you can add \n",
    "# your own variables, functions, and methods\n",
    "#\n",
    "\n",
    "# you may need Python math Module, https://docs.python.org/3/library/math.html\n",
    "import math\n",
    "\n",
    "# class of a Binary Search Tree\n",
    "class BinarySearchTree:\n",
    "    def __init__(self):\n",
    "\n",
    "    \n",
    "    # reuqested operation 1\n",
    "    def insert(self, key):\n",
    "\n",
    "    # reuqested operation 2\n",
    "    def delete(self, key):\n",
    "\n",
    "    # reuqested operation 3\n",
    "    def searchKey(self, key):\n",
    "\n",
    "    # reuqested operation 4\n",
    "    def printProperty(self):\n",
    "        \n",
    "    # reuqested operation 5\n",
    "    def preorderTraversal(self):\n",
    "\n",
    "    # reuqested operation 6\n",
    "    def postorderTraversal(self):\n",
    "\n",
    "    # reuqested operation 7\n",
    "    def inorderTraversal(self):\n",
    "    "
   ]
  },
  {
   "cell_type": "code",
   "execution_count": 7,
   "metadata": {},
   "outputs": [
    {
     "ename": "NameError",
     "evalue": "name 'BinarySearchTree' is not defined",
     "output_type": "error",
     "traceback": [
      "\u001b[1;31m---------------------------------------------------------------------------\u001b[0m",
      "\u001b[1;31mNameError\u001b[0m                                 Traceback (most recent call last)",
      "\u001b[1;32mc:\\Users\\User\\OneDrive\\桌面\\HW4.ipynb 儲存格 4\u001b[0m line \u001b[0;36m3\n\u001b[0;32m      <a href='vscode-notebook-cell:/c%3A/Users/User/OneDrive/%E6%A1%8C%E9%9D%A2/HW4.ipynb#W3sZmlsZQ%3D%3D?line=0'>1</a>\u001b[0m \u001b[39m# Simple test from the scratch\u001b[39;00m\n\u001b[0;32m      <a href='vscode-notebook-cell:/c%3A/Users/User/OneDrive/%E6%A1%8C%E9%9D%A2/HW4.ipynb#W3sZmlsZQ%3D%3D?line=1'>2</a>\u001b[0m \u001b[39m# initializing a BST\u001b[39;00m\n\u001b[1;32m----> <a href='vscode-notebook-cell:/c%3A/Users/User/OneDrive/%E6%A1%8C%E9%9D%A2/HW4.ipynb#W3sZmlsZQ%3D%3D?line=2'>3</a>\u001b[0m T\u001b[39m=\u001b[39mBinarySearchTree()\n\u001b[0;32m      <a href='vscode-notebook-cell:/c%3A/Users/User/OneDrive/%E6%A1%8C%E9%9D%A2/HW4.ipynb#W3sZmlsZQ%3D%3D?line=3'>4</a>\u001b[0m \u001b[39mprint\u001b[39m(T\u001b[39m.\u001b[39marray)\n\u001b[0;32m      <a href='vscode-notebook-cell:/c%3A/Users/User/OneDrive/%E6%A1%8C%E9%9D%A2/HW4.ipynb#W3sZmlsZQ%3D%3D?line=4'>5</a>\u001b[0m T\u001b[39m.\u001b[39mprintProperty()\n",
      "\u001b[1;31mNameError\u001b[0m: name 'BinarySearchTree' is not defined"
     ]
    }
   ],
   "source": [
    "# Simple test from the scratch\n",
    "# initializing a BST\n",
    "T=BinarySearchTree()\n",
    "print(T.array)\n",
    "T.printProperty()\n",
    "T.preorderTraversal()\n",
    "T.postorderTraversal()\n",
    "T.inorderTraversal()"
   ]
  },
  {
   "cell_type": "code",
   "execution_count": 8,
   "metadata": {},
   "outputs": [
    {
     "ename": "NameError",
     "evalue": "name 'T' is not defined",
     "output_type": "error",
     "traceback": [
      "\u001b[1;31m---------------------------------------------------------------------------\u001b[0m",
      "\u001b[1;31mNameError\u001b[0m                                 Traceback (most recent call last)",
      "\u001b[1;32mc:\\Users\\User\\OneDrive\\桌面\\HW4.ipynb 儲存格 5\u001b[0m line \u001b[0;36m2\n\u001b[0;32m      <a href='vscode-notebook-cell:/c%3A/Users/User/OneDrive/%E6%A1%8C%E9%9D%A2/HW4.ipynb#W4sZmlsZQ%3D%3D?line=0'>1</a>\u001b[0m \u001b[39m# Simple test\u001b[39;00m\n\u001b[1;32m----> <a href='vscode-notebook-cell:/c%3A/Users/User/OneDrive/%E6%A1%8C%E9%9D%A2/HW4.ipynb#W4sZmlsZQ%3D%3D?line=1'>2</a>\u001b[0m \u001b[39mprint\u001b[39m(T\u001b[39m.\u001b[39msearchKey(\u001b[39m9\u001b[39m))\n\u001b[0;32m      <a href='vscode-notebook-cell:/c%3A/Users/User/OneDrive/%E6%A1%8C%E9%9D%A2/HW4.ipynb#W4sZmlsZQ%3D%3D?line=2'>3</a>\u001b[0m T\u001b[39m.\u001b[39minsert(\u001b[39m35\u001b[39m)\n\u001b[0;32m      <a href='vscode-notebook-cell:/c%3A/Users/User/OneDrive/%E6%A1%8C%E9%9D%A2/HW4.ipynb#W4sZmlsZQ%3D%3D?line=3'>4</a>\u001b[0m \u001b[39mprint\u001b[39m(T\u001b[39m.\u001b[39marray)\n",
      "\u001b[1;31mNameError\u001b[0m: name 'T' is not defined"
     ]
    }
   ],
   "source": [
    "# Simple test\n",
    "print(T.searchKey(9))\n",
    "T.insert(35)\n",
    "print(T.array)\n",
    "T.printProperty()\n",
    "T.preorderTraversal()\n",
    "T.postorderTraversal()\n",
    "T.inorderTraversal()"
   ]
  },
  {
   "cell_type": "code",
   "execution_count": 9,
   "metadata": {},
   "outputs": [
    {
     "ename": "NameError",
     "evalue": "name 'T' is not defined",
     "output_type": "error",
     "traceback": [
      "\u001b[1;31m---------------------------------------------------------------------------\u001b[0m",
      "\u001b[1;31mNameError\u001b[0m                                 Traceback (most recent call last)",
      "\u001b[1;32mc:\\Users\\User\\OneDrive\\桌面\\HW4.ipynb 儲存格 6\u001b[0m line \u001b[0;36m2\n\u001b[0;32m      <a href='vscode-notebook-cell:/c%3A/Users/User/OneDrive/%E6%A1%8C%E9%9D%A2/HW4.ipynb#W5sZmlsZQ%3D%3D?line=0'>1</a>\u001b[0m \u001b[39m# Simple test on insertions\u001b[39;00m\n\u001b[1;32m----> <a href='vscode-notebook-cell:/c%3A/Users/User/OneDrive/%E6%A1%8C%E9%9D%A2/HW4.ipynb#W5sZmlsZQ%3D%3D?line=1'>2</a>\u001b[0m T\u001b[39m.\u001b[39minsert(\u001b[39m45\u001b[39m)\n\u001b[0;32m      <a href='vscode-notebook-cell:/c%3A/Users/User/OneDrive/%E6%A1%8C%E9%9D%A2/HW4.ipynb#W5sZmlsZQ%3D%3D?line=2'>3</a>\u001b[0m T\u001b[39m.\u001b[39minsert(\u001b[39m40\u001b[39m)\n\u001b[0;32m      <a href='vscode-notebook-cell:/c%3A/Users/User/OneDrive/%E6%A1%8C%E9%9D%A2/HW4.ipynb#W5sZmlsZQ%3D%3D?line=3'>4</a>\u001b[0m T\u001b[39m.\u001b[39minsert(\u001b[39m43\u001b[39m)\n",
      "\u001b[1;31mNameError\u001b[0m: name 'T' is not defined"
     ]
    }
   ],
   "source": [
    "# Simple test on insertions\n",
    "T.insert(45)\n",
    "T.insert(40)\n",
    "T.insert(43)\n",
    "T.insert(41)\n",
    "T.insert(42)\n",
    "print(T.array)\n",
    "T.printProperty()\n",
    "T.preorderTraversal()\n",
    "T.postorderTraversal()\n",
    "T.inorderTraversal()"
   ]
  },
  {
   "cell_type": "code",
   "execution_count": null,
   "metadata": {},
   "outputs": [],
   "source": [
    "class Node:\n",
    "    def __init__(self, key):\n",
    "        self.key = key\n",
    "        self.left = None\n",
    "        self.right = None\n",
    "\n",
    "\n",
    "class BinarySearchTree:\n",
    "    def __init__(self):\n",
    "        self.root = None\n",
    "        self.size = 0\n",
    "\n",
    "    def insert(self, key):\n",
    "        self.root = self._insert_recursive(self.root, key)\n",
    "        self.size += 1\n",
    "\n",
    "    def _insert_recursive(self, root, key):\n",
    "        if root is None:\n",
    "            return Node(key)\n",
    "\n",
    "        if key < root.key:\n",
    "            root.left = self._insert_recursive(root.left, key)\n",
    "        elif key > root.key:\n",
    "            root.right = self._insert_recursive(root.right, key)\n",
    "\n",
    "        return root\n",
    "\n",
    "    def _delete_recursive(self, root, key):\n",
    "        if root is None:\n",
    "            return root\n",
    "\n",
    "        if key < root.key:\n",
    "            root.left = self._delete_recursive(root.left, key)\n",
    "        elif key > root.key:\n",
    "            root.right = self._delete_recursive(root.right, key)\n",
    "        else:\n",
    "            if root.left is None:\n",
    "                return root.right\n",
    "            elif root.right is None:\n",
    "                return root.left\n",
    "            else:\n",
    "                min_node = self._find_min(root.right)\n",
    "                root.key = min_node.key\n",
    "                root.right = self._delete_recursive(root.right, min_node.key)\n",
    "\n",
    "        return root\n",
    "\n",
    "    def delete(self, key):\n",
    "        if self._searchkey_recursive(self.root, key):\n",
    "            self.root = self._delete_recursive(self.root, key)\n",
    "            self.size -= 1\n",
    "        else:\n",
    "            print(\"Key\", key, \"does not exist\")\n",
    "\n",
    "\n",
    "       \n",
    "\n",
    "    def _find_min(self, root):\n",
    "        current = root\n",
    "        while current.left is not None:\n",
    "            current = current.left\n",
    "        return current\n",
    "\n",
    "    def searchkey(self, key):\n",
    "        if self._searchkey_recursive(self.root, key):\n",
    "            print(key, \"is found\")\n",
    "        else:\n",
    "            print(\"NOT found\")\n",
    "\n",
    "    def _searchkey_recursive(self, root, key):\n",
    "        if root is None or root.key == key:\n",
    "            return root is not None\n",
    "\n",
    "        if key < root.key:\n",
    "            return self._searchkey_recursive(root.left, key)\n",
    "        else:\n",
    "            return self._searchkey_recursive(root.right, key)\n",
    "\n",
    "    def print_tree(self):\n",
    "        if self.root is None:\n",
    "            print(\"Tree T is empty\")\n",
    "        else:\n",
    "            height = self._calculate_height(self.root)\n",
    "            print(\"The height of T is\", height, \"and the size of T is\", self.size)\n",
    "\n",
    "    def _calculate_height(self, root):\n",
    "        if root is None:\n",
    "            return -1\n",
    "\n",
    "        left_height = self._calculate_height(root.left)\n",
    "        right_height = self._calculate_height(root.right)\n",
    "        return max(left_height, right_height) + 1  \n",
    "\n",
    "    def list_pre(self):\n",
    "        if self.root is None:\n",
    "            print(\"Preorder of T: Tree T is empty\")\n",
    "        else:\n",
    "            print(\"Preorder of T:\", end=\" \")\n",
    "            self._list_pre_recursive(self.root)\n",
    "            print()\n",
    "\n",
    "    def _list_pre_recursive(self, root):\n",
    "        if root is None:\n",
    "            return\n",
    "\n",
    "        print(root.key, end=\" \")\n",
    "        self._list_pre_recursive(root.left)\n",
    "        self._list_pre_recursive(root.right)\n",
    "\n",
    "    def list_post(self):\n",
    "        if self.root is None:\n",
    "            print(\"Postorder of T: Tree T is empty\")\n",
    "        else:\n",
    "            print(\"Postorder of T:\", end=\" \")\n",
    "            self._list_post_recursive(self.root)\n",
    "            print()\n",
    "\n",
    "    def _list_post_recursive(self, root):\n",
    "        if root is None:\n",
    "            return\n",
    "\n",
    "        self._list_post_recursive(root.left)\n",
    "        self._list_post_recursive(root.right)\n",
    "        print(root.key, end=\" \")\n",
    "\n",
    "    def list_in(self):\n",
    "        if self.root is None:\n",
    "            print(\"Inorder of T: Tree T is empty\")\n",
    "        else:\n",
    "            print(\"Inorder of T:\", end=\" \")\n",
    "            self._list_in_recursive(self.root)\n",
    "            print()\n",
    "\n",
    "    def _list_in_recursive(self, root):\n",
    "        if root is None:\n",
    "            return\n",
    "\n",
    "        self._list_in_recursive(root.left)\n",
    "        print(root.key, end=\" \")\n",
    "        self._list_in_recursive(root.right)\n"
   ]
  },
  {
   "cell_type": "code",
   "execution_count": 10,
   "metadata": {},
   "outputs": [
    {
     "ename": "NameError",
     "evalue": "name 'T' is not defined",
     "output_type": "error",
     "traceback": [
      "\u001b[1;31m---------------------------------------------------------------------------\u001b[0m",
      "\u001b[1;31mNameError\u001b[0m                                 Traceback (most recent call last)",
      "\u001b[1;32mc:\\Users\\User\\OneDrive\\桌面\\HW4.ipynb 儲存格 7\u001b[0m line \u001b[0;36m2\n\u001b[0;32m      <a href='vscode-notebook-cell:/c%3A/Users/User/OneDrive/%E6%A1%8C%E9%9D%A2/HW4.ipynb#W6sZmlsZQ%3D%3D?line=0'>1</a>\u001b[0m \u001b[39m# Simple test on deletions\u001b[39;00m\n\u001b[1;32m----> <a href='vscode-notebook-cell:/c%3A/Users/User/OneDrive/%E6%A1%8C%E9%9D%A2/HW4.ipynb#W6sZmlsZQ%3D%3D?line=1'>2</a>\u001b[0m T\u001b[39m.\u001b[39mdelete(\u001b[39m30\u001b[39m)\n\u001b[0;32m      <a href='vscode-notebook-cell:/c%3A/Users/User/OneDrive/%E6%A1%8C%E9%9D%A2/HW4.ipynb#W6sZmlsZQ%3D%3D?line=2'>3</a>\u001b[0m T\u001b[39m.\u001b[39mdelete(\u001b[39m38\u001b[39m)\n\u001b[0;32m      <a href='vscode-notebook-cell:/c%3A/Users/User/OneDrive/%E6%A1%8C%E9%9D%A2/HW4.ipynb#W6sZmlsZQ%3D%3D?line=3'>4</a>\u001b[0m T\u001b[39m.\u001b[39mdelete(\u001b[39m40\u001b[39m)\n",
      "\u001b[1;31mNameError\u001b[0m: name 'T' is not defined"
     ]
    }
   ],
   "source": [
    "# Simple test on deletions\n",
    "T.delete(30)\n",
    "T.delete(38)\n",
    "T.delete(40)\n",
    "print(T.array)\n",
    "T.printProperty()\n",
    "T.preorderTraversal()\n",
    "T.postorderTraversal()\n",
    "T.inorderTraversal()"
   ]
  }
 ],
 "metadata": {
  "kernelspec": {
   "display_name": "Python 3 (ipykernel)",
   "language": "python",
   "name": "python3"
  },
  "language_info": {
   "codemirror_mode": {
    "name": "ipython",
    "version": 3
   },
   "file_extension": ".py",
   "mimetype": "text/x-python",
   "name": "python",
   "nbconvert_exporter": "python",
   "pygments_lexer": "ipython3",
   "version": "3.11.3"
  }
 },
 "nbformat": 4,
 "nbformat_minor": 4
}
